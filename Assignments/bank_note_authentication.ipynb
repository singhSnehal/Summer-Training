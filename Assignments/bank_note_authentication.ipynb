{
  "cells": [
    {
      "cell_type": "markdown",
      "metadata": {
        "id": "view-in-github",
        "colab_type": "text"
      },
      "source": [
        "<a href=\"https://colab.research.google.com/github/vkate1/Summer-Training-for-III-year/blob/main/Day4/bank_note_authentication.ipynb\" target=\"_parent\"><img src=\"https://colab.research.google.com/assets/colab-badge.svg\" alt=\"Open In Colab\"/></a>"
      ]
    },
    {
      "cell_type": "markdown",
      "id": "3b8b7d6c",
      "metadata": {
        "id": "3b8b7d6c"
      },
      "source": [
        "## Problem Statement\n",
        "\n",
        "Data were extracted from images that were taken from genuine and forged banknote-like specimens. For digitization, an industrial camera usually used for print inspection was used. Wavelet Transform tool were used to extract features from images. Given the dataset, build a Machine Learning model to predict whether a given bank note is legit or not.\n",
        "\n",
        "0 : Legit\n",
        "\n",
        "1: Not legit"
      ]
    },
    {
      "cell_type": "code",
      "execution_count": null,
      "id": "d416b2ba",
      "metadata": {
        "id": "d416b2ba"
      },
      "outputs": [],
      "source": [
        "import numpy as np\n",
        "import pandas as pd\n",
        "import matplotlib.pyplot as plt\n",
        "%matplotlib inline\n",
        "import seaborn as sns\n",
        "\n",
        "from sklearn.model_selection import train_test_split, cross_val_score\n",
        "from sklearn.preprocessing import StandardScaler\n",
        "from outliers import HandleOutliers\n",
        "\n",
        "from sklearn.model_selection import GridSearchCV\n",
        "\n",
        "from sklearn.linear_model import LogisticRegression\n",
        "from sklearn.neighbors import KNeighborsClassifier\n",
        "\n",
        "from sklearn.metrics import classification_report, plot_confusion_matrix, plot_roc_curve\n",
        "\n",
        "import pickle"
      ]
    },
    {
      "cell_type": "code",
      "execution_count": null,
      "id": "fbbcde6e",
      "metadata": {
        "id": "fbbcde6e",
        "outputId": "06a4ddee-484f-4619-f57f-f9210317792f"
      },
      "outputs": [
        {
          "data": {
            "text/html": [
              "<div>\n",
              "<style scoped>\n",
              "    .dataframe tbody tr th:only-of-type {\n",
              "        vertical-align: middle;\n",
              "    }\n",
              "\n",
              "    .dataframe tbody tr th {\n",
              "        vertical-align: top;\n",
              "    }\n",
              "\n",
              "    .dataframe thead th {\n",
              "        text-align: right;\n",
              "    }\n",
              "</style>\n",
              "<table border=\"1\" class=\"dataframe\">\n",
              "  <thead>\n",
              "    <tr style=\"text-align: right;\">\n",
              "      <th></th>\n",
              "      <th>variance</th>\n",
              "      <th>skewness</th>\n",
              "      <th>curtosis</th>\n",
              "      <th>entropy</th>\n",
              "      <th>class</th>\n",
              "    </tr>\n",
              "  </thead>\n",
              "  <tbody>\n",
              "    <tr>\n",
              "      <th>0</th>\n",
              "      <td>3.62160</td>\n",
              "      <td>8.6661</td>\n",
              "      <td>-2.8073</td>\n",
              "      <td>-0.44699</td>\n",
              "      <td>0</td>\n",
              "    </tr>\n",
              "    <tr>\n",
              "      <th>1</th>\n",
              "      <td>4.54590</td>\n",
              "      <td>8.1674</td>\n",
              "      <td>-2.4586</td>\n",
              "      <td>-1.46210</td>\n",
              "      <td>0</td>\n",
              "    </tr>\n",
              "    <tr>\n",
              "      <th>2</th>\n",
              "      <td>3.86600</td>\n",
              "      <td>-2.6383</td>\n",
              "      <td>1.9242</td>\n",
              "      <td>0.10645</td>\n",
              "      <td>0</td>\n",
              "    </tr>\n",
              "    <tr>\n",
              "      <th>3</th>\n",
              "      <td>3.45660</td>\n",
              "      <td>9.5228</td>\n",
              "      <td>-4.0112</td>\n",
              "      <td>-3.59440</td>\n",
              "      <td>0</td>\n",
              "    </tr>\n",
              "    <tr>\n",
              "      <th>4</th>\n",
              "      <td>0.32924</td>\n",
              "      <td>-4.4552</td>\n",
              "      <td>4.5718</td>\n",
              "      <td>-0.98880</td>\n",
              "      <td>0</td>\n",
              "    </tr>\n",
              "  </tbody>\n",
              "</table>\n",
              "</div>"
            ],
            "text/plain": [
              "   variance  skewness  curtosis  entropy  class\n",
              "0   3.62160    8.6661   -2.8073 -0.44699      0\n",
              "1   4.54590    8.1674   -2.4586 -1.46210      0\n",
              "2   3.86600   -2.6383    1.9242  0.10645      0\n",
              "3   3.45660    9.5228   -4.0112 -3.59440      0\n",
              "4   0.32924   -4.4552    4.5718 -0.98880      0"
            ]
          },
          "execution_count": 2,
          "metadata": {},
          "output_type": "execute_result"
        }
      ],
      "source": [
        "data = pd.read_csv('BankNote_Authentication.csv')\n",
        "data.head()"
      ]
    },
    {
      "cell_type": "code",
      "execution_count": null,
      "id": "d800c731",
      "metadata": {
        "id": "d800c731",
        "outputId": "29d0c825-8b82-4629-fbd0-735ed880e435"
      },
      "outputs": [
        {
          "data": {
            "text/plain": [
              "(1372, 5)"
            ]
          },
          "execution_count": 3,
          "metadata": {},
          "output_type": "execute_result"
        }
      ],
      "source": [
        "df = data.copy()\n",
        "df.shape"
      ]
    },
    {
      "cell_type": "code",
      "execution_count": null,
      "id": "4c51a07e",
      "metadata": {
        "id": "4c51a07e",
        "outputId": "0737b79e-8a00-467e-e28a-22b9000a0243"
      },
      "outputs": [
        {
          "data": {
            "text/plain": [
              "variance    0\n",
              "skewness    0\n",
              "curtosis    0\n",
              "entropy     0\n",
              "class       0\n",
              "dtype: int64"
            ]
          },
          "execution_count": 4,
          "metadata": {},
          "output_type": "execute_result"
        }
      ],
      "source": [
        "# Checking for presecne of null values in O/P as well as I/P features\n",
        "df.isnull().sum()"
      ]
    },
    {
      "cell_type": "markdown",
      "id": "cd2e5a72",
      "metadata": {
        "id": "cd2e5a72"
      },
      "source": [
        "## Correlation Heatmap"
      ]
    },
    {
      "cell_type": "code",
      "execution_count": null,
      "id": "252cebb2",
      "metadata": {
        "id": "252cebb2",
        "outputId": "83e68d6e-2300-423d-e7a1-1097fd106933"
      },
      "outputs": [
        {
          "data": {
            "image/png": "[encoded data removed]",
            "text/plain": [
              "<Figure size 720x576 with 2 Axes>"
            ]
          },
          "metadata": {
            "needs_background": "light"
          },
          "output_type": "display_data"
        }
      ],
      "source": [
        "corr = df.corr()\n",
        "\n",
        "plt.figure(figsize=(10, 8))\n",
        "sns.heatmap(corr, annot=True, cmap='RdYlGn')\n",
        "plt.show()"
      ]
    },
    {
      "cell_type": "markdown",
      "id": "2d4caf32",
      "metadata": {
        "id": "2d4caf32"
      },
      "source": [
        "### There isn't much correlation within the I/P features to drop any of them"
      ]
    },
    {
      "cell_type": "code",
      "execution_count": null,
      "id": "c9ea52a5",
      "metadata": {
        "id": "c9ea52a5",
        "outputId": "743f3c9f-d30d-4d6a-9704-0f083df97cef"
      },
      "outputs": [
        {
          "data": {
            "text/plain": [
              "array([0, 1], dtype=int64)"
            ]
          },
          "execution_count": 6,
          "metadata": {},
          "output_type": "execute_result"
        }
      ],
      "source": [
        "# 2 O/P classes\n",
        "df['class'].unique()"
      ]
    },
    {
      "cell_type": "code",
      "execution_count": null,
      "id": "83c30fc0",
      "metadata": {
        "id": "83c30fc0",
        "outputId": "2842cc1e-6603-477d-92c2-081773efab76"
      },
      "outputs": [
        {
          "data": {
            "text/plain": [
              "0    762\n",
              "1    610\n",
              "Name: class, dtype: int64"
            ]
          },
          "execution_count": 7,
          "metadata": {},
          "output_type": "execute_result"
        }
      ],
      "source": [
        "# The dataset is pretty balanced for both the O/P classes\n",
        "df['class'].value_counts()"
      ]
    },
    {
      "cell_type": "markdown",
      "id": "d6f24cd7",
      "metadata": {
        "id": "d6f24cd7"
      },
      "source": [
        "## Train-Test Split"
      ]
    },
    {
      "cell_type": "code",
      "execution_count": null,
      "id": "42b4eed3",
      "metadata": {
        "id": "42b4eed3"
      },
      "outputs": [],
      "source": [
        "X = df.drop(['class'], axis=1)"
      ]
    },
    {
      "cell_type": "code",
      "execution_count": null,
      "id": "d3231ed6",
      "metadata": {
        "id": "d3231ed6",
        "outputId": "de514430-a152-40a4-c5a4-f18a6c70d1fe"
      },
      "outputs": [
        {
          "data": {
            "text/html": [
              "<div>\n",
              "<style scoped>\n",
              "    .dataframe tbody tr th:only-of-type {\n",
              "        vertical-align: middle;\n",
              "    }\n",
              "\n",
              "    .dataframe tbody tr th {\n",
              "        vertical-align: top;\n",
              "    }\n",
              "\n",
              "    .dataframe thead th {\n",
              "        text-align: right;\n",
              "    }\n",
              "</style>\n",
              "<table border=\"1\" class=\"dataframe\">\n",
              "  <thead>\n",
              "    <tr style=\"text-align: right;\">\n",
              "      <th></th>\n",
              "      <th>variance</th>\n",
              "      <th>skewness</th>\n",
              "      <th>curtosis</th>\n",
              "      <th>entropy</th>\n",
              "    </tr>\n",
              "  </thead>\n",
              "  <tbody>\n",
              "    <tr>\n",
              "      <th>0</th>\n",
              "      <td>3.62160</td>\n",
              "      <td>8.6661</td>\n",
              "      <td>-2.8073</td>\n",
              "      <td>-0.44699</td>\n",
              "    </tr>\n",
              "    <tr>\n",
              "      <th>1</th>\n",
              "      <td>4.54590</td>\n",
              "      <td>8.1674</td>\n",
              "      <td>-2.4586</td>\n",
              "      <td>-1.46210</td>\n",
              "    </tr>\n",
              "    <tr>\n",
              "      <th>2</th>\n",
              "      <td>3.86600</td>\n",
              "      <td>-2.6383</td>\n",
              "      <td>1.9242</td>\n",
              "      <td>0.10645</td>\n",
              "    </tr>\n",
              "    <tr>\n",
              "      <th>3</th>\n",
              "      <td>3.45660</td>\n",
              "      <td>9.5228</td>\n",
              "      <td>-4.0112</td>\n",
              "      <td>-3.59440</td>\n",
              "    </tr>\n",
              "    <tr>\n",
              "      <th>4</th>\n",
              "      <td>0.32924</td>\n",
              "      <td>-4.4552</td>\n",
              "      <td>4.5718</td>\n",
              "      <td>-0.98880</td>\n",
              "    </tr>\n",
              "  </tbody>\n",
              "</table>\n",
              "</div>"
            ],
            "text/plain": [
              "   variance  skewness  curtosis  entropy\n",
              "0   3.62160    8.6661   -2.8073 -0.44699\n",
              "1   4.54590    8.1674   -2.4586 -1.46210\n",
              "2   3.86600   -2.6383    1.9242  0.10645\n",
              "3   3.45660    9.5228   -4.0112 -3.59440\n",
              "4   0.32924   -4.4552    4.5718 -0.98880"
            ]
          },
          "execution_count": 9,
          "metadata": {},
          "output_type": "execute_result"
        }
      ],
      "source": [
        "X.head()"
      ]
    },
    {
      "cell_type": "code",
      "execution_count": null,
      "id": "8a5a3a11",
      "metadata": {
        "id": "8a5a3a11",
        "outputId": "67cb5eeb-2524-47d0-8f04-6e7d1f0362e7"
      },
      "outputs": [
        {
          "data": {
            "text/plain": [
              "0    0\n",
              "1    0\n",
              "2    0\n",
              "3    0\n",
              "4    0\n",
              "Name: class, dtype: int64"
            ]
          },
          "execution_count": 10,
          "metadata": {},
          "output_type": "execute_result"
        }
      ],
      "source": [
        "y = df['class']\n",
        "y.head()"
      ]
    },
    {
      "cell_type": "code",
      "execution_count": null,
      "id": "781a2e46",
      "metadata": {
        "id": "781a2e46"
      },
      "outputs": [],
      "source": [
        "X_train, X_test, y_train, y_test = train_test_split(X, y, test_size=0.33, random_state=42)"
      ]
    },
    {
      "cell_type": "markdown",
      "id": "e50d4e8e",
      "metadata": {
        "id": "e50d4e8e"
      },
      "source": [
        "## Feature Scaling"
      ]
    },
    {
      "cell_type": "code",
      "execution_count": null,
      "id": "623cee38",
      "metadata": {
        "id": "623cee38"
      },
      "outputs": [],
      "source": [
        "scaler = StandardScaler()"
      ]
    },
    {
      "cell_type": "code",
      "execution_count": null,
      "id": "48682ea4",
      "metadata": {
        "id": "48682ea4"
      },
      "outputs": [],
      "source": [
        "X_train = scaler.fit_transform(X_train)"
      ]
    },
    {
      "cell_type": "code",
      "execution_count": null,
      "id": "f84ff818",
      "metadata": {
        "id": "f84ff818"
      },
      "outputs": [],
      "source": [
        "X_test = scaler.transform(X_test)"
      ]
    },
    {
      "cell_type": "markdown",
      "id": "94644619",
      "metadata": {
        "id": "94644619"
      },
      "source": [
        "## Model Building"
      ]
    },
    {
      "cell_type": "markdown",
      "id": "4f7e5807",
      "metadata": {
        "id": "4f7e5807"
      },
      "source": [
        "## 1. Logistic Regression"
      ]
    },
    {
      "cell_type": "code",
      "execution_count": null,
      "id": "c53de4dd",
      "metadata": {
        "id": "c53de4dd"
      },
      "outputs": [],
      "source": [
        "log = LogisticRegression()"
      ]
    },
    {
      "cell_type": "code",
      "execution_count": null,
      "id": "2d8a594f",
      "metadata": {
        "id": "2d8a594f"
      },
      "outputs": [],
      "source": [
        "log_model = log.fit(X_train, y_train)"
      ]
    },
    {
      "cell_type": "code",
      "execution_count": null,
      "id": "06a5cf46",
      "metadata": {
        "id": "06a5cf46",
        "outputId": "ee3a51ed-6025-4b91-c1ac-bdd2d093756b"
      },
      "outputs": [
        {
          "data": {
            "text/plain": [
              "0.9801324503311258"
            ]
          },
          "execution_count": 17,
          "metadata": {},
          "output_type": "execute_result"
        }
      ],
      "source": [
        "log_model.score(X_test, y_test)"
      ]
    },
    {
      "cell_type": "markdown",
      "id": "0fcbada6",
      "metadata": {
        "id": "0fcbada6"
      },
      "source": [
        "## 2. KNN"
      ]
    },
    {
      "cell_type": "code",
      "execution_count": null,
      "id": "c8439d5f",
      "metadata": {
        "id": "c8439d5f"
      },
      "outputs": [],
      "source": [
        "knn = KNeighborsClassifier()"
      ]
    },
    {
      "cell_type": "code",
      "execution_count": null,
      "id": "e0554acc",
      "metadata": {
        "id": "e0554acc"
      },
      "outputs": [],
      "source": [
        "knn_model = knn.fit(X_train, y_train)"
      ]
    },
    {
      "cell_type": "code",
      "execution_count": null,
      "id": "6bb39536",
      "metadata": {
        "id": "6bb39536",
        "outputId": "e450fd41-bee0-4519-d50a-f1b7980dceee"
      },
      "outputs": [
        {
          "data": {
            "text/plain": [
              "1.0"
            ]
          },
          "execution_count": 20,
          "metadata": {},
          "output_type": "execute_result"
        }
      ],
      "source": [
        "knn_model.score(X_test, y_test)"
      ]
    },
    {
      "cell_type": "markdown",
      "id": "9267aae3",
      "metadata": {
        "id": "9267aae3"
      },
      "source": [
        "### The KNN model seems to be almost Perfect"
      ]
    },
    {
      "cell_type": "markdown",
      "id": "72add3b7",
      "metadata": {
        "id": "72add3b7"
      },
      "source": [
        "## Model Performance"
      ]
    },
    {
      "cell_type": "code",
      "execution_count": null,
      "id": "07074e8b",
      "metadata": {
        "id": "07074e8b"
      },
      "outputs": [],
      "source": [
        "y_pred = knn_model.predict(X_test)"
      ]
    },
    {
      "cell_type": "code",
      "execution_count": null,
      "id": "588a1b4d",
      "metadata": {
        "id": "588a1b4d",
        "outputId": "40220705-6864-4929-faeb-133f84befa28"
      },
      "outputs": [
        {
          "name": "stdout",
          "output_type": "stream",
          "text": [
            "Classification Report: \n",
            "\n",
            "               precision    recall  f1-score   support\n",
            "\n",
            "           0       1.00      1.00      1.00       257\n",
            "           1       1.00      1.00      1.00       196\n",
            "\n",
            "    accuracy                           1.00       453\n",
            "   macro avg       1.00      1.00      1.00       453\n",
            "weighted avg       1.00      1.00      1.00       453\n",
            "\n"
          ]
        }
      ],
      "source": [
        "print(\"Classification Report: \\n\\n\", classification_report(y_test, y_pred))"
      ]
    },
    {
      "cell_type": "code",
      "execution_count": null,
      "id": "d65b5cd8",
      "metadata": {
        "id": "d65b5cd8",
        "outputId": "ebc134b0-f5bd-4c5a-d48c-49e5c909c26b"
      },
      "outputs": [
        {
          "data": {
            "image/png": "[encoded data removed]",
            "text/plain": [
              "<Figure size 432x288 with 2 Axes>"
            ]
          },
          "metadata": {
            "needs_background": "light"
          },
          "output_type": "display_data"
        }
      ],
      "source": [
        "plot_confusion_matrix(knn_model, X_test, y_test)\n",
        "plt.title('Confusion Matrix\\n')\n",
        "plt.show()"
      ]
    },
    {
      "cell_type": "code",
      "execution_count": null,
      "id": "8014dbcc",
      "metadata": {
        "id": "8014dbcc",
        "outputId": "2be54376-c5a7-4358-e7bc-9d5d59578f25"
      },
      "outputs": [
        {
          "data": {
            "image/png": "[encoded data removed]",
            "text/plain": [
              "<Figure size 432x288 with 1 Axes>"
            ]
          },
          "metadata": {
            "needs_background": "light"
          },
          "output_type": "display_data"
        }
      ],
      "source": [
        "plot_roc_curve(knn_model, X_test, y_test)\n",
        "plt.title('ROC-AUC\\n')\n",
        "plt.show()"
      ]
    },
    {
      "cell_type": "markdown",
      "id": "63e6a89d",
      "metadata": {
        "id": "63e6a89d"
      },
      "source": [
        "## Saving (Dumping) the model"
      ]
    },
    {
      "cell_type": "code",
      "execution_count": null,
      "id": "7048782c",
      "metadata": {
        "id": "7048782c"
      },
      "outputs": [],
      "source": [
        "# open a file, where you want to store the data\n",
        "file = open('bank_note_knn.pkl', 'wb')\n",
        "\n",
        "# dump information to that file\n",
        "pickle.dump(knn_model, file)"
      ]
    },
    {
      "cell_type": "code",
      "execution_count": null,
      "id": "ce5b9264",
      "metadata": {
        "id": "ce5b9264"
      },
      "outputs": [],
      "source": [
        "model = open('bank_note_knn.pkl', 'rb')"
      ]
    },
    {
      "cell_type": "markdown",
      "id": "a4a051ef",
      "metadata": {
        "id": "a4a051ef"
      },
      "source": [
        "## Predictions"
      ]
    },
    {
      "cell_type": "code",
      "execution_count": null,
      "id": "05c7aeaa",
      "metadata": {
        "id": "05c7aeaa",
        "outputId": "597f3c70-e10d-45cb-9d87-c16553e9e612"
      },
      "outputs": [
        {
          "data": {
            "text/html": [
              "<div>\n",
              "<style scoped>\n",
              "    .dataframe tbody tr th:only-of-type {\n",
              "        vertical-align: middle;\n",
              "    }\n",
              "\n",
              "    .dataframe tbody tr th {\n",
              "        vertical-align: top;\n",
              "    }\n",
              "\n",
              "    .dataframe thead th {\n",
              "        text-align: right;\n",
              "    }\n",
              "</style>\n",
              "<table border=\"1\" class=\"dataframe\">\n",
              "  <thead>\n",
              "    <tr style=\"text-align: right;\">\n",
              "      <th></th>\n",
              "      <th>variance</th>\n",
              "      <th>skewness</th>\n",
              "      <th>curtosis</th>\n",
              "      <th>entropy</th>\n",
              "    </tr>\n",
              "  </thead>\n",
              "  <tbody>\n",
              "    <tr>\n",
              "      <th>0</th>\n",
              "      <td>0.424469</td>\n",
              "      <td>0.765542</td>\n",
              "      <td>-0.383330</td>\n",
              "      <td>-0.587638</td>\n",
              "    </tr>\n",
              "    <tr>\n",
              "      <th>1</th>\n",
              "      <td>-0.223275</td>\n",
              "      <td>1.076167</td>\n",
              "      <td>-1.062076</td>\n",
              "      <td>-0.644263</td>\n",
              "    </tr>\n",
              "    <tr>\n",
              "      <th>2</th>\n",
              "      <td>-0.107552</td>\n",
              "      <td>0.884557</td>\n",
              "      <td>-0.813739</td>\n",
              "      <td>-0.944083</td>\n",
              "    </tr>\n",
              "    <tr>\n",
              "      <th>3</th>\n",
              "      <td>-0.741536</td>\n",
              "      <td>1.710000</td>\n",
              "      <td>0.370490</td>\n",
              "      <td>-1.784561</td>\n",
              "    </tr>\n",
              "    <tr>\n",
              "      <th>4</th>\n",
              "      <td>0.725912</td>\n",
              "      <td>1.277560</td>\n",
              "      <td>-1.088273</td>\n",
              "      <td>-0.127902</td>\n",
              "    </tr>\n",
              "  </tbody>\n",
              "</table>\n",
              "</div>"
            ],
            "text/plain": [
              "   variance  skewness  curtosis   entropy\n",
              "0  0.424469  0.765542 -0.383330 -0.587638\n",
              "1 -0.223275  1.076167 -1.062076 -0.644263\n",
              "2 -0.107552  0.884557 -0.813739 -0.944083\n",
              "3 -0.741536  1.710000  0.370490 -1.784561\n",
              "4  0.725912  1.277560 -1.088273 -0.127902"
            ]
          },
          "execution_count": 27,
          "metadata": {},
          "output_type": "execute_result"
        }
      ],
      "source": [
        "test_data = pd.DataFrame(X_test, columns=['variance', 'skewness', 'curtosis', 'entropy'])\n",
        "test_data.head()"
      ]
    },
    {
      "cell_type": "code",
      "execution_count": null,
      "id": "9e11af6d",
      "metadata": {
        "id": "9e11af6d",
        "outputId": "08e6e300-ef31-4d60-8004-c8acbadab4e0"
      },
      "outputs": [
        {
          "data": {
            "text/plain": [
              "430    0\n",
              "588    0\n",
              "296    0\n",
              "184    0\n",
              "244    0\n",
              "Name: class, dtype: int64"
            ]
          },
          "execution_count": 28,
          "metadata": {},
          "output_type": "execute_result"
        }
      ],
      "source": [
        "y_test.head()"
      ]
    },
    {
      "cell_type": "code",
      "execution_count": null,
      "id": "e3cc18d7",
      "metadata": {
        "id": "e3cc18d7",
        "outputId": "b1fe3e64-eaa6-4eff-facc-d116232e2c9e"
      },
      "outputs": [
        {
          "data": {
            "text/plain": [
              "array([0, 0, 0, 0, 0], dtype=int64)"
            ]
          },
          "execution_count": 29,
          "metadata": {},
          "output_type": "execute_result"
        }
      ],
      "source": [
        "knn_model.predict(test_data.head())"
      ]
    },
    {
      "cell_type": "code",
      "execution_count": null,
      "id": "c1da92f3",
      "metadata": {
        "id": "c1da92f3",
        "outputId": "ed7c0dd1-56f4-4875-86e9-45e260a1dc52"
      },
      "outputs": [
        {
          "data": {
            "text/html": [
              "<div>\n",
              "<style scoped>\n",
              "    .dataframe tbody tr th:only-of-type {\n",
              "        vertical-align: middle;\n",
              "    }\n",
              "\n",
              "    .dataframe tbody tr th {\n",
              "        vertical-align: top;\n",
              "    }\n",
              "\n",
              "    .dataframe thead th {\n",
              "        text-align: right;\n",
              "    }\n",
              "</style>\n",
              "<table border=\"1\" class=\"dataframe\">\n",
              "  <thead>\n",
              "    <tr style=\"text-align: right;\">\n",
              "      <th></th>\n",
              "      <th>variance</th>\n",
              "      <th>skewness</th>\n",
              "      <th>curtosis</th>\n",
              "      <th>entropy</th>\n",
              "      <th>class</th>\n",
              "    </tr>\n",
              "  </thead>\n",
              "  <tbody>\n",
              "    <tr>\n",
              "      <th>0</th>\n",
              "      <td>3.62160</td>\n",
              "      <td>8.6661</td>\n",
              "      <td>-2.8073</td>\n",
              "      <td>-0.44699</td>\n",
              "      <td>0</td>\n",
              "    </tr>\n",
              "    <tr>\n",
              "      <th>1</th>\n",
              "      <td>4.54590</td>\n",
              "      <td>8.1674</td>\n",
              "      <td>-2.4586</td>\n",
              "      <td>-1.46210</td>\n",
              "      <td>0</td>\n",
              "    </tr>\n",
              "    <tr>\n",
              "      <th>2</th>\n",
              "      <td>3.86600</td>\n",
              "      <td>-2.6383</td>\n",
              "      <td>1.9242</td>\n",
              "      <td>0.10645</td>\n",
              "      <td>0</td>\n",
              "    </tr>\n",
              "    <tr>\n",
              "      <th>3</th>\n",
              "      <td>3.45660</td>\n",
              "      <td>9.5228</td>\n",
              "      <td>-4.0112</td>\n",
              "      <td>-3.59440</td>\n",
              "      <td>0</td>\n",
              "    </tr>\n",
              "    <tr>\n",
              "      <th>4</th>\n",
              "      <td>0.32924</td>\n",
              "      <td>-4.4552</td>\n",
              "      <td>4.5718</td>\n",
              "      <td>-0.98880</td>\n",
              "      <td>0</td>\n",
              "    </tr>\n",
              "  </tbody>\n",
              "</table>\n",
              "</div>"
            ],
            "text/plain": [
              "   variance  skewness  curtosis  entropy  class\n",
              "0   3.62160    8.6661   -2.8073 -0.44699      0\n",
              "1   4.54590    8.1674   -2.4586 -1.46210      0\n",
              "2   3.86600   -2.6383    1.9242  0.10645      0\n",
              "3   3.45660    9.5228   -4.0112 -3.59440      0\n",
              "4   0.32924   -4.4552    4.5718 -0.98880      0"
            ]
          },
          "execution_count": 30,
          "metadata": {},
          "output_type": "execute_result"
        }
      ],
      "source": [
        "df.head()"
      ]
    },
    {
      "cell_type": "code",
      "execution_count": null,
      "id": "8645ba3a",
      "metadata": {
        "id": "8645ba3a",
        "outputId": "ff320e2f-e417-48d4-9519-663c73717309"
      },
      "outputs": [
        {
          "data": {
            "text/html": [
              "<div>\n",
              "<style scoped>\n",
              "    .dataframe tbody tr th:only-of-type {\n",
              "        vertical-align: middle;\n",
              "    }\n",
              "\n",
              "    .dataframe tbody tr th {\n",
              "        vertical-align: top;\n",
              "    }\n",
              "\n",
              "    .dataframe thead th {\n",
              "        text-align: right;\n",
              "    }\n",
              "</style>\n",
              "<table border=\"1\" class=\"dataframe\">\n",
              "  <thead>\n",
              "    <tr style=\"text-align: right;\">\n",
              "      <th></th>\n",
              "      <th>variance</th>\n",
              "      <th>skewness</th>\n",
              "      <th>curtosis</th>\n",
              "      <th>entropy</th>\n",
              "      <th>class</th>\n",
              "    </tr>\n",
              "  </thead>\n",
              "  <tbody>\n",
              "    <tr>\n",
              "      <th>762</th>\n",
              "      <td>-1.39710</td>\n",
              "      <td>3.31910</td>\n",
              "      <td>-1.392700</td>\n",
              "      <td>-1.99480</td>\n",
              "      <td>1</td>\n",
              "    </tr>\n",
              "    <tr>\n",
              "      <th>763</th>\n",
              "      <td>0.39012</td>\n",
              "      <td>-0.14279</td>\n",
              "      <td>-0.031994</td>\n",
              "      <td>0.35084</td>\n",
              "      <td>1</td>\n",
              "    </tr>\n",
              "    <tr>\n",
              "      <th>764</th>\n",
              "      <td>-1.66770</td>\n",
              "      <td>-7.15350</td>\n",
              "      <td>7.892900</td>\n",
              "      <td>0.96765</td>\n",
              "      <td>1</td>\n",
              "    </tr>\n",
              "    <tr>\n",
              "      <th>765</th>\n",
              "      <td>-3.84830</td>\n",
              "      <td>-12.80470</td>\n",
              "      <td>15.682400</td>\n",
              "      <td>-1.28100</td>\n",
              "      <td>1</td>\n",
              "    </tr>\n",
              "    <tr>\n",
              "      <th>766</th>\n",
              "      <td>-3.56810</td>\n",
              "      <td>-8.21300</td>\n",
              "      <td>10.083000</td>\n",
              "      <td>0.96765</td>\n",
              "      <td>1</td>\n",
              "    </tr>\n",
              "    <tr>\n",
              "      <th>...</th>\n",
              "      <td>...</td>\n",
              "      <td>...</td>\n",
              "      <td>...</td>\n",
              "      <td>...</td>\n",
              "      <td>...</td>\n",
              "    </tr>\n",
              "    <tr>\n",
              "      <th>1367</th>\n",
              "      <td>0.40614</td>\n",
              "      <td>1.34920</td>\n",
              "      <td>-1.450100</td>\n",
              "      <td>-0.55949</td>\n",
              "      <td>1</td>\n",
              "    </tr>\n",
              "    <tr>\n",
              "      <th>1368</th>\n",
              "      <td>-1.38870</td>\n",
              "      <td>-4.87730</td>\n",
              "      <td>6.477400</td>\n",
              "      <td>0.34179</td>\n",
              "      <td>1</td>\n",
              "    </tr>\n",
              "    <tr>\n",
              "      <th>1369</th>\n",
              "      <td>-3.75030</td>\n",
              "      <td>-13.45860</td>\n",
              "      <td>17.593200</td>\n",
              "      <td>-2.77710</td>\n",
              "      <td>1</td>\n",
              "    </tr>\n",
              "    <tr>\n",
              "      <th>1370</th>\n",
              "      <td>-3.56370</td>\n",
              "      <td>-8.38270</td>\n",
              "      <td>12.393000</td>\n",
              "      <td>-1.28230</td>\n",
              "      <td>1</td>\n",
              "    </tr>\n",
              "    <tr>\n",
              "      <th>1371</th>\n",
              "      <td>-2.54190</td>\n",
              "      <td>-0.65804</td>\n",
              "      <td>2.684200</td>\n",
              "      <td>1.19520</td>\n",
              "      <td>1</td>\n",
              "    </tr>\n",
              "  </tbody>\n",
              "</table>\n",
              "<p>610 rows × 5 columns</p>\n",
              "</div>"
            ],
            "text/plain": [
              "      variance  skewness   curtosis  entropy  class\n",
              "762   -1.39710   3.31910  -1.392700 -1.99480      1\n",
              "763    0.39012  -0.14279  -0.031994  0.35084      1\n",
              "764   -1.66770  -7.15350   7.892900  0.96765      1\n",
              "765   -3.84830 -12.80470  15.682400 -1.28100      1\n",
              "766   -3.56810  -8.21300  10.083000  0.96765      1\n",
              "...        ...       ...        ...      ...    ...\n",
              "1367   0.40614   1.34920  -1.450100 -0.55949      1\n",
              "1368  -1.38870  -4.87730   6.477400  0.34179      1\n",
              "1369  -3.75030 -13.45860  17.593200 -2.77710      1\n",
              "1370  -3.56370  -8.38270  12.393000 -1.28230      1\n",
              "1371  -2.54190  -0.65804   2.684200  1.19520      1\n",
              "\n",
              "[610 rows x 5 columns]"
            ]
          },
          "execution_count": 35,
          "metadata": {},
          "output_type": "execute_result"
        }
      ],
      "source": [
        "df[df['class']== 1]"
      ]
    },
    {
      "cell_type": "code",
      "execution_count": null,
      "id": "59995435",
      "metadata": {
        "id": "59995435",
        "outputId": "0d10b79b-f8bb-412e-fe55-b1b60a05eee5"
      },
      "outputs": [
        {
          "data": {
            "text/plain": [
              "array([0], dtype=int64)"
            ]
          },
          "execution_count": 31,
          "metadata": {},
          "output_type": "execute_result"
        }
      ],
      "source": [
        "knn_model.predict([[3.62160, 8.6661, -2.8073, -0.44699]])"
      ]
    }
  ],
  "metadata": {
    "kernelspec": {
      "display_name": "Python 3",
      "language": "python",
      "name": "python3"
    },
    "language_info": {
      "codemirror_mode": {
        "name": "ipython",
        "version": 3
      },
      "file_extension": ".py",
      "mimetype": "text/x-python",
      "name": "python",
      "nbconvert_exporter": "python",
      "pygments_lexer": "ipython3",
      "version": "3.7.10"
    },
    "colab": {
      "name": "bank-note-authentication.ipynb",
      "provenance": [],
      "include_colab_link": true
    }
  },
  "nbformat": 4,
  "nbformat_minor": 5
}