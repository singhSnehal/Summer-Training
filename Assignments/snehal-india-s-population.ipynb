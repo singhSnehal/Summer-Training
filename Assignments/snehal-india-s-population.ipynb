{
 "cells": [
  {
   "cell_type": "code",
   "execution_count": 1,
   "id": "c5a80b25",
   "metadata": {
    "execution": {
     "iopub.execute_input": "2022-06-22T16:49:53.031611Z",
     "iopub.status.busy": "2022-06-22T16:49:53.030797Z",
     "iopub.status.idle": "2022-06-22T16:49:54.194917Z",
     "shell.execute_reply": "2022-06-22T16:49:54.195484Z",
     "shell.execute_reply.started": "2022-04-05T07:59:35.551937Z"
    },
    "papermill": {
     "duration": 1.200415,
     "end_time": "2022-06-22T16:49:54.195815",
     "exception": false,
     "start_time": "2022-06-22T16:49:52.995400",
     "status": "completed"
    },
    "tags": []
   },
   "outputs": [],
   "source": [
    "import pandas as pd\n",
    "import matplotlib.pyplot as plt\n",
    "from sklearn.linear_model import LinearRegression\n",
    "from sklearn.model_selection import train_test_split"
   ]
  },
  {
   "cell_type": "code",
   "execution_count": 2,
   "id": "14bf663a",
   "metadata": {
    "execution": {
     "iopub.execute_input": "2022-06-22T16:49:54.245535Z",
     "iopub.status.busy": "2022-06-22T16:49:54.243114Z",
     "iopub.status.idle": "2022-06-22T16:49:54.282094Z",
     "shell.execute_reply": "2022-06-22T16:49:54.282617Z",
     "shell.execute_reply.started": "2022-04-05T07:59:36.59059Z"
    },
    "papermill": {
     "duration": 0.064252,
     "end_time": "2022-06-22T16:49:54.282816",
     "exception": false,
     "start_time": "2022-06-22T16:49:54.218564",
     "status": "completed"
    },
    "tags": []
   },
   "outputs": [
    {
     "data": {
      "text/html": [
       "<div>\n",
       "<style scoped>\n",
       "    .dataframe tbody tr th:only-of-type {\n",
       "        vertical-align: middle;\n",
       "    }\n",
       "\n",
       "    .dataframe tbody tr th {\n",
       "        vertical-align: top;\n",
       "    }\n",
       "\n",
       "    .dataframe thead th {\n",
       "        text-align: right;\n",
       "    }\n",
       "</style>\n",
       "<table border=\"1\" class=\"dataframe\">\n",
       "  <thead>\n",
       "    <tr style=\"text-align: right;\">\n",
       "      <th></th>\n",
       "      <th>Year</th>\n",
       "      <th>Yearly % \\nChange</th>\n",
       "      <th>Yearly\\nChange</th>\n",
       "      <th>Migrants (net)</th>\n",
       "      <th>Median Age</th>\n",
       "      <th>Fertility Rate</th>\n",
       "      <th>Density (P/Km²)</th>\n",
       "      <th>Urban\\nPop %</th>\n",
       "      <th>Urban Population</th>\n",
       "      <th>Country's Share of\\nWorld Pop</th>\n",
       "      <th>World Population</th>\n",
       "      <th>India\\nGlobal Rank</th>\n",
       "      <th>Population</th>\n",
       "    </tr>\n",
       "  </thead>\n",
       "  <tbody>\n",
       "    <tr>\n",
       "      <th>0</th>\n",
       "      <td>2050</td>\n",
       "      <td>0.23</td>\n",
       "      <td>3711367</td>\n",
       "      <td>NaN</td>\n",
       "      <td>38.1</td>\n",
       "      <td>2.24</td>\n",
       "      <td>551</td>\n",
       "      <td>53.5</td>\n",
       "      <td>876613025</td>\n",
       "      <td>16.84</td>\n",
       "      <td>9735033990</td>\n",
       "      <td>1</td>\n",
       "      <td>1639176033</td>\n",
       "    </tr>\n",
       "    <tr>\n",
       "      <th>1</th>\n",
       "      <td>2045</td>\n",
       "      <td>0.35</td>\n",
       "      <td>5585537</td>\n",
       "      <td>-414772.0</td>\n",
       "      <td>36.6</td>\n",
       "      <td>2.24</td>\n",
       "      <td>545</td>\n",
       "      <td>50.1</td>\n",
       "      <td>811749463</td>\n",
       "      <td>17.09</td>\n",
       "      <td>9481803274</td>\n",
       "      <td>1</td>\n",
       "      <td>1620619200</td>\n",
       "    </tr>\n",
       "    <tr>\n",
       "      <th>2</th>\n",
       "      <td>2040</td>\n",
       "      <td>0.50</td>\n",
       "      <td>7793541</td>\n",
       "      <td>-415736.0</td>\n",
       "      <td>35.0</td>\n",
       "      <td>2.24</td>\n",
       "      <td>536</td>\n",
       "      <td>46.7</td>\n",
       "      <td>744380367</td>\n",
       "      <td>17.31</td>\n",
       "      <td>9198847240</td>\n",
       "      <td>1</td>\n",
       "      <td>1592691513</td>\n",
       "    </tr>\n",
       "    <tr>\n",
       "      <th>3</th>\n",
       "      <td>2035</td>\n",
       "      <td>0.66</td>\n",
       "      <td>10016298</td>\n",
       "      <td>-415732.0</td>\n",
       "      <td>33.3</td>\n",
       "      <td>2.24</td>\n",
       "      <td>523</td>\n",
       "      <td>43.5</td>\n",
       "      <td>675456367</td>\n",
       "      <td>17.48</td>\n",
       "      <td>8887524213</td>\n",
       "      <td>1</td>\n",
       "      <td>1553723810</td>\n",
       "    </tr>\n",
       "    <tr>\n",
       "      <th>4</th>\n",
       "      <td>2030</td>\n",
       "      <td>0.80</td>\n",
       "      <td>11726140</td>\n",
       "      <td>-440124.0</td>\n",
       "      <td>31.7</td>\n",
       "      <td>2.24</td>\n",
       "      <td>506</td>\n",
       "      <td>40.4</td>\n",
       "      <td>607341981</td>\n",
       "      <td>17.59</td>\n",
       "      <td>8548487400</td>\n",
       "      <td>1</td>\n",
       "      <td>1503642322</td>\n",
       "    </tr>\n",
       "  </tbody>\n",
       "</table>\n",
       "</div>"
      ],
      "text/plain": [
       "   Year  Yearly % \\nChange  Yearly\\nChange  Migrants (net)  Median Age  \\\n",
       "0  2050               0.23         3711367             NaN        38.1   \n",
       "1  2045               0.35         5585537       -414772.0        36.6   \n",
       "2  2040               0.50         7793541       -415736.0        35.0   \n",
       "3  2035               0.66        10016298       -415732.0        33.3   \n",
       "4  2030               0.80        11726140       -440124.0        31.7   \n",
       "\n",
       "   Fertility Rate  Density (P/Km²)  Urban\\nPop %  Urban Population  \\\n",
       "0            2.24              551          53.5         876613025   \n",
       "1            2.24              545          50.1         811749463   \n",
       "2            2.24              536          46.7         744380367   \n",
       "3            2.24              523          43.5         675456367   \n",
       "4            2.24              506          40.4         607341981   \n",
       "\n",
       "   Country's Share of\\nWorld Pop World Population  India\\nGlobal Rank  \\\n",
       "0                          16.84       9735033990                   1   \n",
       "1                          17.09       9481803274                   1   \n",
       "2                          17.31       9198847240                   1   \n",
       "3                          17.48       8887524213                   1   \n",
       "4                          17.59       8548487400                   1   \n",
       "\n",
       "   Population  \n",
       "0  1639176033  \n",
       "1  1620619200  \n",
       "2  1592691513  \n",
       "3  1553723810  \n",
       "4  1503642322  "
      ]
     },
     "execution_count": 2,
     "metadata": {},
     "output_type": "execute_result"
    }
   ],
   "source": [
    "data = pd.read_csv('../input/indias-population-simple-linear-regression/population.csv')\n",
    "data.head(5)\n"
   ]
  },
  {
   "cell_type": "markdown",
   "id": "b801015a",
   "metadata": {
    "papermill": {
     "duration": 0.021839,
     "end_time": "2022-06-22T16:49:54.327763",
     "exception": false,
     "start_time": "2022-06-22T16:49:54.305924",
     "status": "completed"
    },
    "tags": []
   },
   "source": [
    "### Show the description.."
   ]
  },
  {
   "cell_type": "code",
   "execution_count": 3,
   "id": "e5965dc9",
   "metadata": {
    "execution": {
     "iopub.execute_input": "2022-06-22T16:49:54.382273Z",
     "iopub.status.busy": "2022-06-22T16:49:54.374876Z",
     "iopub.status.idle": "2022-06-22T16:49:54.429677Z",
     "shell.execute_reply": "2022-06-22T16:49:54.429159Z",
     "shell.execute_reply.started": "2022-04-05T07:59:36.629194Z"
    },
    "papermill": {
     "duration": 0.080054,
     "end_time": "2022-06-22T16:49:54.429837",
     "exception": false,
     "start_time": "2022-06-22T16:49:54.349783",
     "status": "completed"
    },
    "tags": []
   },
   "outputs": [
    {
     "data": {
      "text/html": [
       "<div>\n",
       "<style scoped>\n",
       "    .dataframe tbody tr th:only-of-type {\n",
       "        vertical-align: middle;\n",
       "    }\n",
       "\n",
       "    .dataframe tbody tr th {\n",
       "        vertical-align: top;\n",
       "    }\n",
       "\n",
       "    .dataframe thead th {\n",
       "        text-align: right;\n",
       "    }\n",
       "</style>\n",
       "<table border=\"1\" class=\"dataframe\">\n",
       "  <thead>\n",
       "    <tr style=\"text-align: right;\">\n",
       "      <th></th>\n",
       "      <th>Year</th>\n",
       "      <th>Yearly % \\nChange</th>\n",
       "      <th>Yearly\\nChange</th>\n",
       "      <th>Migrants (net)</th>\n",
       "      <th>Median Age</th>\n",
       "      <th>Fertility Rate</th>\n",
       "      <th>Density (P/Km²)</th>\n",
       "      <th>Urban\\nPop %</th>\n",
       "      <th>Urban Population</th>\n",
       "      <th>Country's Share of\\nWorld Pop</th>\n",
       "      <th>India\\nGlobal Rank</th>\n",
       "      <th>Population</th>\n",
       "    </tr>\n",
       "  </thead>\n",
       "  <tbody>\n",
       "    <tr>\n",
       "      <th>count</th>\n",
       "      <td>24.000000</td>\n",
       "      <td>24.000000</td>\n",
       "      <td>2.400000e+01</td>\n",
       "      <td>23.000000</td>\n",
       "      <td>24.000000</td>\n",
       "      <td>24.000000</td>\n",
       "      <td>24.000000</td>\n",
       "      <td>24.00000</td>\n",
       "      <td>2.400000e+01</td>\n",
       "      <td>24.000000</td>\n",
       "      <td>24.000000</td>\n",
       "      <td>2.400000e+01</td>\n",
       "    </tr>\n",
       "    <tr>\n",
       "      <th>mean</th>\n",
       "      <td>2005.000000</td>\n",
       "      <td>1.412917</td>\n",
       "      <td>1.286815e+07</td>\n",
       "      <td>-252570.869565</td>\n",
       "      <td>25.962500</td>\n",
       "      <td>3.479583</td>\n",
       "      <td>374.583333</td>\n",
       "      <td>31.53750</td>\n",
       "      <td>3.881687e+08</td>\n",
       "      <td>16.776250</td>\n",
       "      <td>1.791667</td>\n",
       "      <td>1.113504e+09</td>\n",
       "    </tr>\n",
       "    <tr>\n",
       "      <th>std</th>\n",
       "      <td>27.489128</td>\n",
       "      <td>0.666897</td>\n",
       "      <td>4.239948e+06</td>\n",
       "      <td>286175.441586</td>\n",
       "      <td>5.752188</td>\n",
       "      <td>1.447566</td>\n",
       "      <td>136.433745</td>\n",
       "      <td>10.10806</td>\n",
       "      <td>2.378749e+08</td>\n",
       "      <td>1.098227</td>\n",
       "      <td>0.414851</td>\n",
       "      <td>4.058605e+08</td>\n",
       "    </tr>\n",
       "    <tr>\n",
       "      <th>min</th>\n",
       "      <td>1955.000000</td>\n",
       "      <td>0.230000</td>\n",
       "      <td>3.711367e+06</td>\n",
       "      <td>-532687.000000</td>\n",
       "      <td>19.300000</td>\n",
       "      <td>2.240000</td>\n",
       "      <td>138.000000</td>\n",
       "      <td>17.60000</td>\n",
       "      <td>7.195850e+07</td>\n",
       "      <td>14.780000</td>\n",
       "      <td>1.000000</td>\n",
       "      <td>4.098806e+08</td>\n",
       "    </tr>\n",
       "    <tr>\n",
       "      <th>25%</th>\n",
       "      <td>1983.750000</td>\n",
       "      <td>0.995000</td>\n",
       "      <td>9.941006e+06</td>\n",
       "      <td>-500592.000000</td>\n",
       "      <td>20.675000</td>\n",
       "      <td>2.240000</td>\n",
       "      <td>256.750000</td>\n",
       "      <td>23.97500</td>\n",
       "      <td>1.829768e+08</td>\n",
       "      <td>15.995000</td>\n",
       "      <td>2.000000</td>\n",
       "      <td>7.630082e+08</td>\n",
       "    </tr>\n",
       "    <tr>\n",
       "      <th>50%</th>\n",
       "      <td>2012.500000</td>\n",
       "      <td>1.335000</td>\n",
       "      <td>1.387048e+07</td>\n",
       "      <td>-414772.000000</td>\n",
       "      <td>25.950000</td>\n",
       "      <td>2.600000</td>\n",
       "      <td>428.000000</td>\n",
       "      <td>31.75000</td>\n",
       "      <td>4.049070e+08</td>\n",
       "      <td>17.255000</td>\n",
       "      <td>2.000000</td>\n",
       "      <td>1.272217e+09</td>\n",
       "    </tr>\n",
       "    <tr>\n",
       "      <th>75%</th>\n",
       "      <td>2021.250000</td>\n",
       "      <td>2.010000</td>\n",
       "      <td>1.565104e+07</td>\n",
       "      <td>-25972.500000</td>\n",
       "      <td>28.800000</td>\n",
       "      <td>4.752500</td>\n",
       "      <td>469.500000</td>\n",
       "      <td>35.65000</td>\n",
       "      <td>4.980096e+08</td>\n",
       "      <td>17.702500</td>\n",
       "      <td>2.000000</td>\n",
       "      <td>1.396256e+09</td>\n",
       "    </tr>\n",
       "    <tr>\n",
       "      <th>max</th>\n",
       "      <td>2050.000000</td>\n",
       "      <td>2.330000</td>\n",
       "      <td>1.853059e+07</td>\n",
       "      <td>421208.000000</td>\n",
       "      <td>38.100000</td>\n",
       "      <td>5.900000</td>\n",
       "      <td>551.000000</td>\n",
       "      <td>53.50000</td>\n",
       "      <td>8.766130e+08</td>\n",
       "      <td>17.750000</td>\n",
       "      <td>2.000000</td>\n",
       "      <td>1.639176e+09</td>\n",
       "    </tr>\n",
       "  </tbody>\n",
       "</table>\n",
       "</div>"
      ],
      "text/plain": [
       "              Year  Yearly % \\nChange  Yearly\\nChange  Migrants (net)  \\\n",
       "count    24.000000          24.000000    2.400000e+01       23.000000   \n",
       "mean   2005.000000           1.412917    1.286815e+07  -252570.869565   \n",
       "std      27.489128           0.666897    4.239948e+06   286175.441586   \n",
       "min    1955.000000           0.230000    3.711367e+06  -532687.000000   \n",
       "25%    1983.750000           0.995000    9.941006e+06  -500592.000000   \n",
       "50%    2012.500000           1.335000    1.387048e+07  -414772.000000   \n",
       "75%    2021.250000           2.010000    1.565104e+07   -25972.500000   \n",
       "max    2050.000000           2.330000    1.853059e+07   421208.000000   \n",
       "\n",
       "       Median Age  Fertility Rate  Density (P/Km²)  Urban\\nPop %  \\\n",
       "count   24.000000       24.000000        24.000000      24.00000   \n",
       "mean    25.962500        3.479583       374.583333      31.53750   \n",
       "std      5.752188        1.447566       136.433745      10.10806   \n",
       "min     19.300000        2.240000       138.000000      17.60000   \n",
       "25%     20.675000        2.240000       256.750000      23.97500   \n",
       "50%     25.950000        2.600000       428.000000      31.75000   \n",
       "75%     28.800000        4.752500       469.500000      35.65000   \n",
       "max     38.100000        5.900000       551.000000      53.50000   \n",
       "\n",
       "       Urban Population  Country's Share of\\nWorld Pop  India\\nGlobal Rank  \\\n",
       "count      2.400000e+01                      24.000000           24.000000   \n",
       "mean       3.881687e+08                      16.776250            1.791667   \n",
       "std        2.378749e+08                       1.098227            0.414851   \n",
       "min        7.195850e+07                      14.780000            1.000000   \n",
       "25%        1.829768e+08                      15.995000            2.000000   \n",
       "50%        4.049070e+08                      17.255000            2.000000   \n",
       "75%        4.980096e+08                      17.702500            2.000000   \n",
       "max        8.766130e+08                      17.750000            2.000000   \n",
       "\n",
       "         Population  \n",
       "count  2.400000e+01  \n",
       "mean   1.113504e+09  \n",
       "std    4.058605e+08  \n",
       "min    4.098806e+08  \n",
       "25%    7.630082e+08  \n",
       "50%    1.272217e+09  \n",
       "75%    1.396256e+09  \n",
       "max    1.639176e+09  "
      ]
     },
     "execution_count": 3,
     "metadata": {},
     "output_type": "execute_result"
    }
   ],
   "source": [
    "data.describe()"
   ]
  },
  {
   "cell_type": "markdown",
   "id": "c4833f19",
   "metadata": {
    "papermill": {
     "duration": 0.022523,
     "end_time": "2022-06-22T16:49:54.475348",
     "exception": false,
     "start_time": "2022-06-22T16:49:54.452825",
     "status": "completed"
    },
    "tags": []
   },
   "source": [
    "### show the Info.."
   ]
  },
  {
   "cell_type": "code",
   "execution_count": 4,
   "id": "ed6ce9a7",
   "metadata": {
    "execution": {
     "iopub.execute_input": "2022-06-22T16:49:54.524620Z",
     "iopub.status.busy": "2022-06-22T16:49:54.523973Z",
     "iopub.status.idle": "2022-06-22T16:49:54.540548Z",
     "shell.execute_reply": "2022-06-22T16:49:54.541391Z",
     "shell.execute_reply.started": "2022-04-05T07:59:36.678637Z"
    },
    "papermill": {
     "duration": 0.043477,
     "end_time": "2022-06-22T16:49:54.541640",
     "exception": false,
     "start_time": "2022-06-22T16:49:54.498163",
     "status": "completed"
    },
    "tags": []
   },
   "outputs": [
    {
     "name": "stdout",
     "output_type": "stream",
     "text": [
      "<class 'pandas.core.frame.DataFrame'>\n",
      "RangeIndex: 24 entries, 0 to 23\n",
      "Data columns (total 13 columns):\n",
      " #   Column                        Non-Null Count  Dtype  \n",
      "---  ------                        --------------  -----  \n",
      " 0   Year                          24 non-null     int64  \n",
      " 1   Yearly % \n",
      "Change              24 non-null     float64\n",
      " 2   Yearly\n",
      "Change                 24 non-null     int64  \n",
      " 3   Migrants (net)                23 non-null     float64\n",
      " 4   Median Age                    24 non-null     float64\n",
      " 5   Fertility Rate                24 non-null     float64\n",
      " 6   Density (P/Km²)               24 non-null     int64  \n",
      " 7   Urban\n",
      "Pop %                   24 non-null     float64\n",
      " 8   Urban Population              24 non-null     int64  \n",
      " 9   Country's Share of\n",
      "World Pop  24 non-null     float64\n",
      " 10  World Population              24 non-null     object \n",
      " 11  India\n",
      "Global Rank             24 non-null     int64  \n",
      " 12  Population                    24 non-null     int64  \n",
      "dtypes: float64(6), int64(6), object(1)\n",
      "memory usage: 2.6+ KB\n"
     ]
    }
   ],
   "source": [
    "data.info()"
   ]
  },
  {
   "cell_type": "markdown",
   "id": "4152878b",
   "metadata": {
    "papermill": {
     "duration": 0.022935,
     "end_time": "2022-06-22T16:49:54.589217",
     "exception": false,
     "start_time": "2022-06-22T16:49:54.566282",
     "status": "completed"
    },
    "tags": []
   },
   "source": [
    "### assign data to X and Y"
   ]
  },
  {
   "cell_type": "code",
   "execution_count": 5,
   "id": "430b92ec",
   "metadata": {
    "execution": {
     "iopub.execute_input": "2022-06-22T16:49:54.639501Z",
     "iopub.status.busy": "2022-06-22T16:49:54.638841Z",
     "iopub.status.idle": "2022-06-22T16:49:54.642413Z",
     "shell.execute_reply": "2022-06-22T16:49:54.642985Z",
     "shell.execute_reply.started": "2022-04-05T07:59:36.694624Z"
    },
    "papermill": {
     "duration": 0.030643,
     "end_time": "2022-06-22T16:49:54.643154",
     "exception": false,
     "start_time": "2022-06-22T16:49:54.612511",
     "status": "completed"
    },
    "tags": []
   },
   "outputs": [],
   "source": [
    "X = data['Year'].values\n",
    "\n"
   ]
  },
  {
   "cell_type": "code",
   "execution_count": 6,
   "id": "9ca27946",
   "metadata": {
    "execution": {
     "iopub.execute_input": "2022-06-22T16:49:54.693856Z",
     "iopub.status.busy": "2022-06-22T16:49:54.693138Z",
     "iopub.status.idle": "2022-06-22T16:49:54.696896Z",
     "shell.execute_reply": "2022-06-22T16:49:54.697412Z",
     "shell.execute_reply.started": "2022-04-05T07:59:36.698803Z"
    },
    "papermill": {
     "duration": 0.03104,
     "end_time": "2022-06-22T16:49:54.697581",
     "exception": false,
     "start_time": "2022-06-22T16:49:54.666541",
     "status": "completed"
    },
    "tags": []
   },
   "outputs": [],
   "source": [
    "Y = data['Population'].values\n"
   ]
  },
  {
   "cell_type": "markdown",
   "id": "3a051fde",
   "metadata": {
    "papermill": {
     "duration": 0.02314,
     "end_time": "2022-06-22T16:49:54.743967",
     "exception": false,
     "start_time": "2022-06-22T16:49:54.720827",
     "status": "completed"
    },
    "tags": []
   },
   "source": [
    "### set Train and Test Data"
   ]
  },
  {
   "cell_type": "code",
   "execution_count": 7,
   "id": "f0b8e206",
   "metadata": {
    "execution": {
     "iopub.execute_input": "2022-06-22T16:49:54.796028Z",
     "iopub.status.busy": "2022-06-22T16:49:54.795312Z",
     "iopub.status.idle": "2022-06-22T16:49:54.800696Z",
     "shell.execute_reply": "2022-06-22T16:49:54.801207Z",
     "shell.execute_reply.started": "2022-04-05T07:59:36.709543Z"
    },
    "papermill": {
     "duration": 0.032045,
     "end_time": "2022-06-22T16:49:54.801389",
     "exception": false,
     "start_time": "2022-06-22T16:49:54.769344",
     "status": "completed"
    },
    "tags": []
   },
   "outputs": [],
   "source": [
    "x_train, x_test, y_train, y_test = train_test_split(X,Y, train_size = .75, test_size=0.25, random_state = 7)\n",
    "x_train, y_train\n",
    "x_train = x_train.reshape(-1,1)\n",
    "x_test = x_test.reshape(-1,1)\n",
    "\n",
    "\n"
   ]
  },
  {
   "cell_type": "markdown",
   "id": "93e58885",
   "metadata": {
    "papermill": {
     "duration": 0.023244,
     "end_time": "2022-06-22T16:49:54.847924",
     "exception": false,
     "start_time": "2022-06-22T16:49:54.824680",
     "status": "completed"
    },
    "tags": []
   },
   "source": [
    "### Creating t linear regression model"
   ]
  },
  {
   "cell_type": "code",
   "execution_count": 8,
   "id": "ce835126",
   "metadata": {
    "execution": {
     "iopub.execute_input": "2022-06-22T16:49:54.898996Z",
     "iopub.status.busy": "2022-06-22T16:49:54.898280Z",
     "iopub.status.idle": "2022-06-22T16:49:54.920534Z",
     "shell.execute_reply": "2022-06-22T16:49:54.921099Z",
     "shell.execute_reply.started": "2022-04-05T07:59:36.723402Z"
    },
    "papermill": {
     "duration": 0.049518,
     "end_time": "2022-06-22T16:49:54.921283",
     "exception": false,
     "start_time": "2022-06-22T16:49:54.871765",
     "status": "completed"
    },
    "tags": []
   },
   "outputs": [
    {
     "data": {
      "text/plain": [
       "LinearRegression()"
      ]
     },
     "execution_count": 8,
     "metadata": {},
     "output_type": "execute_result"
    }
   ],
   "source": [
    "model = LinearRegression()\n",
    "model.fit(x_train, y_train)"
   ]
  },
  {
   "cell_type": "markdown",
   "id": "338cdc4a",
   "metadata": {
    "papermill": {
     "duration": 0.024319,
     "end_time": "2022-06-22T16:49:54.970527",
     "exception": false,
     "start_time": "2022-06-22T16:49:54.946208",
     "status": "completed"
    },
    "tags": []
   },
   "source": [
    "### use linear regression to predict output"
   ]
  },
  {
   "cell_type": "code",
   "execution_count": 9,
   "id": "228cbb6d",
   "metadata": {
    "execution": {
     "iopub.execute_input": "2022-06-22T16:49:55.022363Z",
     "iopub.status.busy": "2022-06-22T16:49:55.021687Z",
     "iopub.status.idle": "2022-06-22T16:49:55.024947Z",
     "shell.execute_reply": "2022-06-22T16:49:55.025447Z",
     "shell.execute_reply.started": "2022-04-05T07:59:36.745881Z"
    },
    "papermill": {
     "duration": 0.030524,
     "end_time": "2022-06-22T16:49:55.025611",
     "exception": false,
     "start_time": "2022-06-22T16:49:54.995087",
     "status": "completed"
    },
    "tags": []
   },
   "outputs": [],
   "source": [
    "y_predict = model.predict(x_test.reshape(-1,1))\n"
   ]
  },
  {
   "cell_type": "code",
   "execution_count": 10,
   "id": "86750814",
   "metadata": {
    "execution": {
     "iopub.execute_input": "2022-06-22T16:49:55.080615Z",
     "iopub.status.busy": "2022-06-22T16:49:55.079947Z",
     "iopub.status.idle": "2022-06-22T16:49:55.082583Z",
     "shell.execute_reply": "2022-06-22T16:49:55.083096Z",
     "shell.execute_reply.started": "2022-04-05T07:59:36.752768Z"
    },
    "papermill": {
     "duration": 0.033142,
     "end_time": "2022-06-22T16:49:55.083261",
     "exception": false,
     "start_time": "2022-06-22T16:49:55.050119",
     "status": "completed"
    },
    "tags": []
   },
   "outputs": [
    {
     "data": {
      "text/plain": [
       "0.9846252194474069"
      ]
     },
     "execution_count": 10,
     "metadata": {},
     "output_type": "execute_result"
    }
   ],
   "source": [
    "train_accuracy = model.score(x_train, y_train)\n",
    "train_accuracy"
   ]
  },
  {
   "cell_type": "code",
   "execution_count": 11,
   "id": "1f76d100",
   "metadata": {
    "execution": {
     "iopub.execute_input": "2022-06-22T16:49:55.134779Z",
     "iopub.status.busy": "2022-06-22T16:49:55.134119Z",
     "iopub.status.idle": "2022-06-22T16:49:55.139258Z",
     "shell.execute_reply": "2022-06-22T16:49:55.139707Z",
     "shell.execute_reply.started": "2022-04-05T07:59:36.765901Z"
    },
    "papermill": {
     "duration": 0.032664,
     "end_time": "2022-06-22T16:49:55.139897",
     "exception": false,
     "start_time": "2022-06-22T16:49:55.107233",
     "status": "completed"
    },
    "tags": []
   },
   "outputs": [
    {
     "data": {
      "text/plain": [
       "0.9836202373458255"
      ]
     },
     "execution_count": 11,
     "metadata": {},
     "output_type": "execute_result"
    }
   ],
   "source": [
    "test_accuracy = model.score(x_test, y_test)\n",
    "test_accuracy"
   ]
  },
  {
   "cell_type": "code",
   "execution_count": 12,
   "id": "e4d0caeb",
   "metadata": {
    "execution": {
     "iopub.execute_input": "2022-06-22T16:49:55.193063Z",
     "iopub.status.busy": "2022-06-22T16:49:55.192384Z",
     "iopub.status.idle": "2022-06-22T16:49:55.198195Z",
     "shell.execute_reply": "2022-06-22T16:49:55.197624Z",
     "shell.execute_reply.started": "2022-04-05T07:59:36.778163Z"
    },
    "papermill": {
     "duration": 0.033219,
     "end_time": "2022-06-22T16:49:55.198347",
     "exception": false,
     "start_time": "2022-06-22T16:49:55.165128",
     "status": "completed"
    },
    "tags": []
   },
   "outputs": [
    {
     "data": {
      "text/plain": [
       "array([[1999]])"
      ]
     },
     "execution_count": 12,
     "metadata": {},
     "output_type": "execute_result"
    }
   ],
   "source": [
    "import numpy as np\n",
    "new_data = np.array([1999]).reshape(-1,1)\n",
    "new_data"
   ]
  },
  {
   "cell_type": "code",
   "execution_count": 13,
   "id": "89a33a43",
   "metadata": {
    "execution": {
     "iopub.execute_input": "2022-06-22T16:49:55.256075Z",
     "iopub.status.busy": "2022-06-22T16:49:55.255258Z",
     "iopub.status.idle": "2022-06-22T16:49:55.258835Z",
     "shell.execute_reply": "2022-06-22T16:49:55.258308Z",
     "shell.execute_reply.started": "2022-04-05T07:59:36.787557Z"
    },
    "papermill": {
     "duration": 0.03504,
     "end_time": "2022-06-22T16:49:55.258980",
     "exception": false,
     "start_time": "2022-06-22T16:49:55.223940",
     "status": "completed"
    },
    "tags": []
   },
   "outputs": [
    {
     "data": {
      "text/plain": [
       "array([1.02619994e+09])"
      ]
     },
     "execution_count": 13,
     "metadata": {},
     "output_type": "execute_result"
    }
   ],
   "source": [
    "model.predict(new_data)"
   ]
  },
  {
   "cell_type": "markdown",
   "id": "900d47ee",
   "metadata": {
    "papermill": {
     "duration": 0.026135,
     "end_time": "2022-06-22T16:49:55.310680",
     "exception": false,
     "start_time": "2022-06-22T16:49:55.284545",
     "status": "completed"
    },
    "tags": []
   },
   "source": [
    "### Plotting"
   ]
  },
  {
   "cell_type": "code",
   "execution_count": 14,
   "id": "8aa12c30",
   "metadata": {
    "execution": {
     "iopub.execute_input": "2022-06-22T16:49:55.370548Z",
     "iopub.status.busy": "2022-06-22T16:49:55.369445Z",
     "iopub.status.idle": "2022-06-22T16:49:55.639073Z",
     "shell.execute_reply": "2022-06-22T16:49:55.638453Z",
     "shell.execute_reply.started": "2022-04-05T07:59:36.799227Z"
    },
    "papermill": {
     "duration": 0.303103,
     "end_time": "2022-06-22T16:49:55.639212",
     "exception": false,
     "start_time": "2022-06-22T16:49:55.336109",
     "status": "completed"
    },
    "tags": []
   },
   "outputs": [
    {
     "data": {
      "text/plain": [
       "Text(0.5, 1.0, 'India Population')"
      ]
     },
     "execution_count": 14,
     "metadata": {},
     "output_type": "execute_result"
    },
    {
     "data": {
      "image/png": "[encoded data removed]",
      "text/plain": [
       "<Figure size 432x288 with 1 Axes>"
      ]
     },
     "metadata": {
      "needs_background": "light"
     },
     "output_type": "display_data"
    }
   ],
   "source": [
    "# X and Y\n",
    "%matplotlib inline\n",
    "plt.scatter(X,Y, color='blue')\n",
    "plt.xlabel('Year')\n",
    "plt.ylabel('Population')\n",
    "plt.title('India Population')"
   ]
  },
  {
   "cell_type": "code",
   "execution_count": 15,
   "id": "1cd59326",
   "metadata": {
    "execution": {
     "iopub.execute_input": "2022-06-22T16:49:55.713211Z",
     "iopub.status.busy": "2022-06-22T16:49:55.712109Z",
     "iopub.status.idle": "2022-06-22T16:49:55.954297Z",
     "shell.execute_reply": "2022-06-22T16:49:55.954761Z",
     "shell.execute_reply.started": "2022-04-05T07:59:37.050185Z"
    },
    "papermill": {
     "duration": 0.289036,
     "end_time": "2022-06-22T16:49:55.954930",
     "exception": false,
     "start_time": "2022-06-22T16:49:55.665894",
     "status": "completed"
    },
    "tags": []
   },
   "outputs": [
    {
     "data": {
      "text/plain": [
       "Text(0.5, 1.0, 'India Population')"
      ]
     },
     "execution_count": 15,
     "metadata": {},
     "output_type": "execute_result"
    },
    {
     "data": {
      "image/png": "[encoded data removed]",
      "text/plain": [
       "<Figure size 432x288 with 1 Axes>"
      ]
     },
     "metadata": {
      "needs_background": "light"
     },
     "output_type": "display_data"
    }
   ],
   "source": [
    "%matplotlib inline\n",
    "plt.scatter(x_test,y_test, color='blue')\n",
    "plt.scatter(x_test,y_predict, color='red')\n",
    "plt.xlabel('Year')\n",
    "plt.ylabel('Population')\n",
    "plt.title('India Population')"
   ]
  },
  {
   "cell_type": "code",
   "execution_count": 16,
   "id": "e36f1834",
   "metadata": {
    "execution": {
     "iopub.execute_input": "2022-06-22T16:49:56.041091Z",
     "iopub.status.busy": "2022-06-22T16:49:56.040012Z",
     "iopub.status.idle": "2022-06-22T16:49:56.258622Z",
     "shell.execute_reply": "2022-06-22T16:49:56.258055Z",
     "shell.execute_reply.started": "2022-04-05T08:00:36.527462Z"
    },
    "papermill": {
     "duration": 0.276241,
     "end_time": "2022-06-22T16:49:56.258800",
     "exception": false,
     "start_time": "2022-06-22T16:49:55.982559",
     "status": "completed"
    },
    "tags": []
   },
   "outputs": [
    {
     "data": {
      "text/plain": [
       "Text(0.5, 1.0, 'India Population')"
      ]
     },
     "execution_count": 16,
     "metadata": {},
     "output_type": "execute_result"
    },
    {
     "data": {
      "image/png": "[encoded data removed]",
      "text/plain": [
       "<Figure size 432x288 with 1 Axes>"
      ]
     },
     "metadata": {
      "needs_background": "light"
     },
     "output_type": "display_data"
    }
   ],
   "source": [
    "%matplotlib inline\n",
    "plt.scatter(X,Y, color='blue')\n",
    "plt.scatter(x_test,y_predict, color='red')\n",
    "plt.xlabel('Year')\n",
    "plt.ylabel('Population')\n",
    "plt.title('India Population')"
   ]
  },
  {
   "cell_type": "code",
   "execution_count": null,
   "id": "304b6d9a",
   "metadata": {
    "papermill": {
     "duration": 0.028964,
     "end_time": "2022-06-22T16:49:56.317263",
     "exception": false,
     "start_time": "2022-06-22T16:49:56.288299",
     "status": "completed"
    },
    "tags": []
   },
   "outputs": [],
   "source": []
  }
 ],
 "metadata": {
  "kernelspec": {
   "display_name": "Python 3",
   "language": "python",
   "name": "python3"
  },
  "language_info": {
   "codemirror_mode": {
    "name": "ipython",
    "version": 3
   },
   "file_extension": ".py",
   "mimetype": "text/x-python",
   "name": "python",
   "nbconvert_exporter": "python",
   "pygments_lexer": "ipython3",
   "version": "3.7.12"
  },
  "papermill": {
   "default_parameters": {},
   "duration": 14.382222,
   "end_time": "2022-06-22T16:49:57.056059",
   "environment_variables": {},
   "exception": null,
   "input_path": "__notebook__.ipynb",
   "output_path": "__notebook__.ipynb",
   "parameters": {},
   "start_time": "2022-06-22T16:49:42.673837",
   "version": "2.3.3"
  }
 },
 "nbformat": 4,
 "nbformat_minor": 5
}
